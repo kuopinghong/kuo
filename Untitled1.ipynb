{
 "cells": [
  {
   "cell_type": "code",
   "execution_count": 9,
   "metadata": {},
   "outputs": [
    {
     "name": "stdout",
     "output_type": "stream",
     "text": [
      "Height 26.5\n",
      "Weight 19.0\n",
      "Perimeter 91.0\n",
      "Area 503.5\n"
     ]
    }
   ],
   "source": [
    "Height=26.50\n",
    "print(\"Height\",Height)\n",
    "Weight=19.00\n",
    "print(\"Weight\",Weight)\n",
    "Perimeter=2*(Height+Weight)\n",
    "print(\"Perimeter\",Perimeter)\n",
    "Area=Height*Weight\n",
    "print(\"Area\", Area)"
   ]
  },
  {
   "cell_type": "code",
   "execution_count": null,
   "metadata": {},
   "outputs": [],
   "source": []
  }
 ],
 "metadata": {
  "kernelspec": {
   "display_name": "Python 3",
   "language": "python",
   "name": "python3"
  },
  "language_info": {
   "codemirror_mode": {
    "name": "ipython",
    "version": 3
   },
   "file_extension": ".py",
   "mimetype": "text/x-python",
   "name": "python",
   "nbconvert_exporter": "python",
   "pygments_lexer": "ipython3",
   "version": "3.7.3"
  }
 },
 "nbformat": 4,
 "nbformat_minor": 2
}
